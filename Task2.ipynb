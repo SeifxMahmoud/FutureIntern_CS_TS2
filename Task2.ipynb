{
 "cells": [
  {
   "cell_type": "markdown",
   "id": "31af404a-524b-48c2-8a90-9a10081f4fb4",
   "metadata": {},
   "source": [
    "# Future Internship Task\n",
    "\n",
    "### Task 2: Email Analysis and Reporting\n",
    "In this notebook we will:\n",
    "1. Analyze a suspicious email to identify red flags\n",
    "2. Understand how attackers use social engineering through emails\n",
    "3. Create a report on how to avoid such attacks\n",
    "______\n",
    "#### Example e-mail: \n",
    "```plaintext\n",
    "From: support@paypa1.com\n",
    "To: user@example.com\n",
    "Subject: Your PayPal account has been compromised!\n",
    "\n",
    "Dear valued customer,\n",
    "\n",
    "We noticed unusual activity on your PayPal account. To protect your account, we have temporarily limited access to your account. You must confirm your identity by clicking on the link below:\n",
    "\n",
    "[Verify Now](http://maliciouswebsite.com/verification)\n",
    "\n",
    "Failure to confirm your identity within 24 hours will result in permanent suspension of your account.\n",
    "\n",
    "Thank you for using PayPal!\n",
    "\n",
    "Support Team\n",
    "```\n",
    "**Red Flags Identified:**\n",
    "1. Sender's Email Address:\n",
    "   The sender's address is support@paypa1.com which is put there to trick the user into believing that this is from PayPal's official team. It is a form a phishing attack.\n",
    "2. Subject Line:\n",
    "   \"Your PayPal account has been compromised!\" is designed to make the target panic and be out of his nerves when making a decision.\n",
    "3. Content:\n",
    "   \"Dear valued customer\" Instead of using the customer's name. This is so typical in a phishing attack.\n",
    "   There's also an urgent call for action, mentioning they have limited the user's account.\n",
    "4. Links:\n",
    "    The link text says \"Verify Now,\" but when hovering over the link,   it points to http://maliciouswebsite.com/verification, which is         clearly not PayPal's official website.\n",
    "______________\n",
    "#### How to avoid such attacks: \n",
    "1. Always verify the sender's email address.\n",
    "2. Phishing emails make it always sound urgent to take actions, so take good care.\n",
    "3. Unexpected links or attachments. If you find any, be cautious.\n",
    "4. Generic greetings is not something most of the companies follow, they use greeting with the name instead.\n",
    "5. Poor grammer and spelling.\n",
    "6. Requests for personal information.\n",
    "\n",
    "\n"
   ]
  }
 ],
 "metadata": {
  "kernelspec": {
   "display_name": "Python 3 (ipykernel)",
   "language": "python",
   "name": "python3"
  },
  "language_info": {
   "codemirror_mode": {
    "name": "ipython",
    "version": 3
   },
   "file_extension": ".py",
   "mimetype": "text/x-python",
   "name": "python",
   "nbconvert_exporter": "python",
   "pygments_lexer": "ipython3",
   "version": "3.12.4"
  }
 },
 "nbformat": 4,
 "nbformat_minor": 5
}
